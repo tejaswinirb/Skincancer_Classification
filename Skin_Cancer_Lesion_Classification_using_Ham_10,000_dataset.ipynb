{
  "nbformat": 4,
  "nbformat_minor": 0,
  "metadata": {
    "colab": {
      "provenance": []
    },
    "kernelspec": {
      "name": "python3",
      "display_name": "Python 3"
    },
    "language_info": {
      "name": "python"
    }
  },
  "cells": [
    {
      "cell_type": "code",
      "execution_count": null,
      "metadata": {
        "id": "GHq5DHl4hhta"
      },
      "outputs": [],
      "source": [
        "import numpy as np\n",
        "import pandas as pd\n",
        "import seaborn as sb\n",
        "import matplotlib.pyplot as plt\n",
        "\n",
        "from glob import glob\n",
        "from PIL import Image\n",
        "from sklearn.model_selection import train_test_split\n",
        "\n",
        "import tensorflow as tf\n",
        "from tensorflow import keras\n",
        "from keras import layers\n",
        "from functools import partial\n",
        "\n",
        "AUTO = tf.data.experimental.AUTOTUNE\n",
        "import warnings\n",
        "warnings.filterwarnings('ignore')\n"
      ]
    },
    {
      "cell_type": "code",
      "source": [
        "#Now, let’s check the number of images we have got here. You can download the image dataset\n",
        "images = glob('train_cancer/*/*.jpg')\n",
        "len(images)\n"
      ],
      "metadata": {
        "id": "AqHjHS7lmsRC"
      },
      "execution_count": null,
      "outputs": []
    },
    {
      "cell_type": "code",
      "source": [
        "#replace backslash with forward slash to avoid unexpected errors\n",
        "images = [path.replace('\\\\', '/') for path in images]\n",
        "df = pd.DataFrame({'filepath': images})\n",
        "df['label'] = df['filepath'].str.split('/', expand=True)[1]\n",
        "df.head()\n"
      ],
      "metadata": {
        "id": "m4eXhYRXM6gf"
      },
      "execution_count": null,
      "outputs": []
    },
    {
      "cell_type": "code",
      "source": [
        "df['label_bin'] = np.where(df['label'].values == 'malignant', 1, 0)\n",
        "df.head()\n"
      ],
      "metadata": {
        "id": "ZuT8mnCSM9xJ"
      },
      "execution_count": null,
      "outputs": []
    },
    {
      "cell_type": "code",
      "source": [
        "x = df['label'].value_counts()\n",
        "plt.pie(x.values,\n",
        "\t\tlabels=x.index,\n",
        "\t\tautopct='%1.1f%%')\n",
        "plt.show()\n"
      ],
      "metadata": {
        "id": "rfpdxTkJNAit"
      },
      "execution_count": null,
      "outputs": []
    },
    {
      "cell_type": "code",
      "source": [
        "for cat in df['label'].unique():\n",
        "\ttemp = df[df['label'] == cat]\n",
        "\n",
        "\tindex_list = temp.index\n",
        "\tfig, ax = plt.subplots(1, 4, figsize=(15, 5))\n",
        "\tfig.suptitle(f'Images for {cat} category . . . .', fontsize=20)\n",
        "\tfor i in range(4):\n",
        "\t\tindex = np.random.randint(0, len(index_list))\n",
        "\t\tindex = index_list[index]\n",
        "\t\tdata = df.iloc[index]\n",
        "\n",
        "\t\timage_path = data[0]\n",
        "\n",
        "\t\timg = np.array(Image.open(image_path))\n",
        "\t\tax[i].imshow(img)\n",
        "plt.tight_layout()\n",
        "plt.show()\n"
      ],
      "metadata": {
        "id": "gEyHoondNDaS"
      },
      "execution_count": null,
      "outputs": []
    },
    {
      "cell_type": "code",
      "source": [
        "features = df['filepath']\n",
        "target = df['label_bin']\n",
        "\n",
        "X_train, X_val,\\\n",
        "\tY_train, Y_val = train_test_split(features, target,\n",
        "\t\t\t\t\t\t\t\t\ttest_size=0.15,\n",
        "\t\t\t\t\t\t\t\t\trandom_state=10)\n",
        "\n",
        "X_train.shape, X_val.shape\n"
      ],
      "metadata": {
        "id": "ExhhPw5-NGno"
      },
      "execution_count": null,
      "outputs": []
    },
    {
      "cell_type": "code",
      "source": [
        "def decode_image(filepath, label=None):\n",
        "\n",
        "\timg = tf.io.read_file(filepath)\n",
        "\timg = tf.image.decode_jpeg(img)\n",
        "\timg = tf.image.resize(img, [224, 224])\n",
        "\timg = tf.cast(img, tf.float32) / 255.0\n",
        "\n",
        "\tif label == 'benign':\n",
        "\t\tLabel = 0\n",
        "\telse:\n",
        "\t\tLabel = 1\n",
        "\n",
        "\treturn img, Label\n"
      ],
      "metadata": {
        "id": "ZovblHR6NJOa"
      },
      "execution_count": null,
      "outputs": []
    },
    {
      "cell_type": "code",
      "source": [
        "train_ds = (\n",
        "\ttf.data.Dataset\n",
        "\t.from_tensor_slices((X_train, Y_train))\n",
        "\t.map(decode_image, num_parallel_calls=AUTO)\n",
        "\t.batch(32)\n",
        "\t.prefetch(AUTO)\n",
        ")\n",
        "\n",
        "val_ds = (\n",
        "\ttf.data.Dataset\n",
        "\t.from_tensor_slices((X_val, Y_val))\n",
        "\t.map(decode_image, num_parallel_calls=AUTO)\n",
        "\t.batch(32)\n",
        "\t.prefetch(AUTO)\n",
        ")\n"
      ],
      "metadata": {
        "id": "sOpTuvPeNLvx"
      },
      "execution_count": null,
      "outputs": []
    },
    {
      "cell_type": "code",
      "source": [
        "from tensorflow.keras.applications.efficientnet import EfficientNetB7\n",
        "\n",
        "pre_trained_model = EfficientNetB7(\n",
        "\tinput_shape=(224, 224, 3),\n",
        "\tweights='imagenet',\n",
        "\tinclude_top=False\n",
        ")\n",
        "\n",
        "for layer in pre_trained_model.layers:\n",
        "\tlayer.trainable = False\n"
      ],
      "metadata": {
        "id": "LQNlTMIGNOq9"
      },
      "execution_count": null,
      "outputs": []
    },
    {
      "cell_type": "code",
      "source": [
        "from tensorflow.keras import Model\n",
        "\n",
        "inputs = layers.Input(shape=(224, 224, 3))\n",
        "x = layers.Flatten()(inputs)\n",
        "\n",
        "x = layers.Dense(256, activation='relu')(x)\n",
        "x = layers.BatchNormalization()(x)\n",
        "x = layers.Dense(256, activation='relu')(x)\n",
        "x = layers.Dropout(0.3)(x)\n",
        "x = layers.BatchNormalization()(x)\n",
        "outputs = layers.Dense(1, activation='sigmoid')(x)\n",
        "\n",
        "model = Model(inputs, outputs)\n"
      ],
      "metadata": {
        "id": "UNu_ezLsNTS_"
      },
      "execution_count": null,
      "outputs": []
    },
    {
      "cell_type": "code",
      "source": [
        "model.compile(\n",
        "\tloss=tf.keras.losses.BinaryCrossentropy(from_logits=True),\n",
        "\toptimizer='adam',\n",
        "\tmetrics=['AUC']\n",
        ")\n"
      ],
      "metadata": {
        "id": "3jNC6mTeNWzj"
      },
      "execution_count": null,
      "outputs": []
    },
    {
      "cell_type": "code",
      "source": [
        "history = model.fit(train_ds,\n",
        "\t\t\t\t\tvalidation_data=val_ds,\n",
        "\t\t\t\t\tepochs=5,\n",
        "\t\t\t\t\tverbose=1)\n"
      ],
      "metadata": {
        "id": "EAyN49vXNZSm"
      },
      "execution_count": null,
      "outputs": []
    },
    {
      "cell_type": "code",
      "source": [
        "hist_df = pd.DataFrame(history.history)\n",
        "hist_df.head()\n"
      ],
      "metadata": {
        "id": "kCzUMEU2NcI4"
      },
      "execution_count": null,
      "outputs": []
    },
    {
      "cell_type": "code",
      "source": [
        "hist_df['loss'].plot()\n",
        "hist_df['val_loss'].plot()\n",
        "plt.title('Loss v/s Validation Loss')\n",
        "plt.legend()\n",
        "plt.show()\n"
      ],
      "metadata": {
        "id": "SJfifDa7NdvO"
      },
      "execution_count": null,
      "outputs": []
    },
    {
      "cell_type": "code",
      "source": [
        "hist_df['auc'].plot()\n",
        "hist_df['val_auc'].plot()\n",
        "plt.title('AUC v/s Validation AUC')\n",
        "plt.legend()\n",
        "plt.show()\n"
      ],
      "metadata": {
        "id": "g__oiOeSNf4-"
      },
      "execution_count": null,
      "outputs": []
    },
    {
      "cell_type": "code",
      "source": [],
      "metadata": {
        "id": "wLU1-GU-Nirn"
      },
      "execution_count": null,
      "outputs": []
    }
  ]
}